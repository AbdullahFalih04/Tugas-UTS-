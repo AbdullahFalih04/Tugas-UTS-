{
  "nbformat": 4,
  "nbformat_minor": 0,
  "metadata": {
    "colab": {
      "name": "Tugas UTS Muhammad Abdullah Falih 3KA18 13119955.ipynb",
      "provenance": []
    },
    "kernelspec": {
      "name": "python3",
      "display_name": "Python 3"
    },
    "language_info": {
      "name": "python"
    }
  },
  "cells": [
    {
      "cell_type": "code",
      "execution_count": null,
      "metadata": {
        "id": "Hqa9oYn6kXV5"
      },
      "outputs": [],
      "source": [
        "#Import the libraries\n",
        "from sklearn.svm import SVR\n",
        "import numpy as np\n",
        "import pandas as pd\n",
        "import matplotlib.pyplot as plt\n",
        "plt.style.use('seaborn-darkgrid')"
      ]
    },
    {
      "cell_type": "code",
      "source": [
        "#Load the data\n",
        "#from google.colab import files # Use to load data on Google Colab\n",
        "#uploaded = files.upload() # Use to load data on Google Colab\n",
        "df = pd.read_csv('GOOG.csv')\n",
        "df"
      ],
      "metadata": {
        "id": "NJM5sBumlHCj"
      },
      "execution_count": null,
      "outputs": []
    },
    {
      "cell_type": "code",
      "source": [
        "actual_price = df.tail(1)\n",
        "actual_price"
      ],
      "metadata": {
        "id": "JcHLBIxqlK-5"
      },
      "execution_count": null,
      "outputs": []
    },
    {
      "cell_type": "code",
      "source": [
        "df = df.head(len(df)-1)\n",
        "df"
      ],
      "metadata": {
        "id": "3mLVO8TGlLxt"
      },
      "execution_count": null,
      "outputs": []
    },
    {
      "cell_type": "code",
      "source": [
        "#Create the lists / X and y data set\n",
        "days = list()\n",
        "adj_close_prices = list()"
      ],
      "metadata": {
        "id": "PYxBP_hElUhf"
      },
      "execution_count": null,
      "outputs": []
    },
    {
      "cell_type": "code",
      "source": [
        "df_days = df.loc[:, 'Date']\n",
        "df_adj_close = df.loc[:, 'Adj Close']"
      ],
      "metadata": {
        "id": "MJxObwQrlXtP"
      },
      "execution_count": null,
      "outputs": []
    },
    {
      "cell_type": "code",
      "source": [
        "#Create the independent data set\n",
        "for day in df_days:\n",
        "   days.append( [int(day.split('/')[1])] )\n",
        "#Create the dependent data set\n",
        "for adj_close_price in df_adj_close:\n",
        "   adj_close_prices.append( float(adj_close_price) )"
      ],
      "metadata": {
        "id": "9q3yHQE2laxx"
      },
      "execution_count": null,
      "outputs": []
    },
    {
      "cell_type": "code",
      "source": [
        "print(days)"
      ],
      "metadata": {
        "id": "FeqgDSAblde9"
      },
      "execution_count": null,
      "outputs": []
    },
    {
      "cell_type": "code",
      "source": [
        "#Create and train an SVR model using a linear kernel\n",
        "lin_svr = SVR(kernel='linear', C=1000.0)\n",
        "lin_svr.fit(days,adj_close_prices)#Create and train an SVR model using a polynomial kernel\n",
        "poly_svr = SVR(kernel='poly', C=1000.0, degree=2)\n",
        "poly_svr.fit(days, adj_close_prices)#Create and train an SVR model using a RBF kernel\n",
        "rbf_svr = SVR(kernel='rbf', C=2500.0, gamma=0.20)\n",
        "rbf_svr.fit(days, adj_close_prices)"
      ],
      "metadata": {
        "id": "sdIeca99le36"
      },
      "execution_count": null,
      "outputs": []
    },
    {
      "cell_type": "code",
      "source": [
        "#Plot the models on a graph to see which has the best fit\n",
        "plt.figure(figsize=(16,8))\n",
        "plt.scatter(days, adj_close_prices, color = 'black', label='Original Data')\n",
        "plt.plot(days, rbf_svr.predict(days), color = 'green', label='RBF Model')\n",
        "plt.plot(days, poly_svr.predict(days), color = 'orange', label='Polynomial Model')\n",
        "plt.plot(days, lin_svr.predict(days), color = 'purple', label='Linear Model')\n",
        "plt.xlabel('Days')\n",
        "plt.ylabel('Adj Close Price')\n",
        "plt.title('Support Vector Regression')\n",
        "plt.legend()\n",
        "plt.show()"
      ],
      "metadata": {
        "id": "A2G51b1TlnxN"
      },
      "execution_count": null,
      "outputs": []
    },
    {
      "cell_type": "code",
      "source": [
        "day = [[30]]\n",
        "print('The RBF SVR predicted:', rbf_svr.predict(day))\n",
        "print('The Linear SVR predicted:', lin_svr.predict(day))\n",
        "print('The Polynomial SVR predicted:', poly_svr.predict(day))"
      ],
      "metadata": {
        "id": "MaPD-b2DlrUd"
      },
      "execution_count": null,
      "outputs": []
    }
  ]
}